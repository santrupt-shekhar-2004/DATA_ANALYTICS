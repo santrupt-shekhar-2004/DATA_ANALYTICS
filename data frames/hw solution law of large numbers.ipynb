{
 "cells": [
  {
   "cell_type": "code",
   "execution_count": 2,
   "id": "7bfc7a95",
   "metadata": {},
   "outputs": [],
   "source": [
    "import numpy as np"
   ]
  },
  {
   "cell_type": "code",
   "execution_count": 3,
   "id": "aa2f1523",
   "metadata": {},
   "outputs": [],
   "source": [
    "from numpy.random import randn\n"
   ]
  },
  {
   "cell_type": "code",
   "execution_count": 61,
   "id": "ee5ce4c8",
   "metadata": {},
   "outputs": [],
   "source": [
    "counter=0"
   ]
  },
  {
   "cell_type": "code",
   "execution_count": 68,
   "id": "144d88fd",
   "metadata": {},
   "outputs": [],
   "source": [
    "for i in randn(1000000):\n",
    "    if(i>-1 and i<1):\n",
    "        counter = counter+1"
   ]
  },
  {
   "cell_type": "code",
   "execution_count": 66,
   "id": "f4c9af98",
   "metadata": {},
   "outputs": [
    {
     "data": {
      "text/plain": [
       "0.68953318"
      ]
     },
     "execution_count": 66,
     "metadata": {},
     "output_type": "execute_result"
    }
   ],
   "source": [
    "counter/n"
   ]
  },
  {
   "cell_type": "code",
   "execution_count": null,
   "id": "45833a81",
   "metadata": {},
   "outputs": [],
   "source": []
  },
  {
   "cell_type": "code",
   "execution_count": null,
   "id": "1fc8c063",
   "metadata": {},
   "outputs": [],
   "source": []
  }
 ],
 "metadata": {
  "kernelspec": {
   "display_name": "Python 3 (ipykernel)",
   "language": "python",
   "name": "python3"
  },
  "language_info": {
   "codemirror_mode": {
    "name": "ipython",
    "version": 3
   },
   "file_extension": ".py",
   "mimetype": "text/x-python",
   "name": "python",
   "nbconvert_exporter": "python",
   "pygments_lexer": "ipython3",
   "version": "3.10.9"
  }
 },
 "nbformat": 4,
 "nbformat_minor": 5
}
