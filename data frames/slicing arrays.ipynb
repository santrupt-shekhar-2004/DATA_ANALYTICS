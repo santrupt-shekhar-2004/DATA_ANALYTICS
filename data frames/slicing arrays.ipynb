{
 "cells": [
  {
   "cell_type": "code",
   "execution_count": 9,
   "id": "42535e02",
   "metadata": {},
   "outputs": [],
   "source": [
    "import numpy as np"
   ]
  },
  {
   "cell_type": "code",
   "execution_count": 15,
   "id": "9401fc01",
   "metadata": {},
   "outputs": [],
   "source": [
    "l=(1,2,3,4,5,6)\n",
    "a=np.array(l)"
   ]
  },
  {
   "cell_type": "code",
   "execution_count": 16,
   "id": "f6c42d2a",
   "metadata": {},
   "outputs": [
    {
     "data": {
      "text/plain": [
       "array([1, 2, 3, 4, 5, 6])"
      ]
     },
     "execution_count": 16,
     "metadata": {},
     "output_type": "execute_result"
    }
   ],
   "source": [
    "a"
   ]
  },
  {
   "cell_type": "code",
   "execution_count": 17,
   "id": "c44fa756",
   "metadata": {},
   "outputs": [],
   "source": [
    "b=a[1:4]"
   ]
  },
  {
   "cell_type": "code",
   "execution_count": 18,
   "id": "227c18ee",
   "metadata": {},
   "outputs": [
    {
     "data": {
      "text/plain": [
       "array([2, 3, 4])"
      ]
     },
     "execution_count": 18,
     "metadata": {},
     "output_type": "execute_result"
    }
   ],
   "source": [
    "b"
   ]
  },
  {
   "cell_type": "code",
   "execution_count": 20,
   "id": "622bbeba",
   "metadata": {},
   "outputs": [],
   "source": [
    "b[1:]=23"
   ]
  },
  {
   "cell_type": "code",
   "execution_count": 21,
   "id": "920b34b4",
   "metadata": {},
   "outputs": [
    {
     "data": {
      "text/plain": [
       "array([ 2, 23, 23])"
      ]
     },
     "execution_count": 21,
     "metadata": {},
     "output_type": "execute_result"
    }
   ],
   "source": [
    "b\n"
   ]
  },
  {
   "cell_type": "code",
   "execution_count": 22,
   "id": "86ade1aa",
   "metadata": {},
   "outputs": [
    {
     "data": {
      "text/plain": [
       "array([ 1,  2, 23, 23,  5,  6])"
      ]
     },
     "execution_count": 22,
     "metadata": {},
     "output_type": "execute_result"
    }
   ],
   "source": [
    "a"
   ]
  },
  {
   "cell_type": "code",
   "execution_count": 24,
   "id": "1018a39e",
   "metadata": {},
   "outputs": [],
   "source": [
    "#we see that making changes to b automatically changes the array a \n",
    "#this is beacuse when we created b it wasnt a coppy of a instead was an image of a\n",
    "#thats why the changes in b is making changes in a \n",
    "#inorder to make a copy of the array we have an inbuilt function of numpy arrays "
   ]
  },
  {
   "cell_type": "code",
   "execution_count": 25,
   "id": "976e765d",
   "metadata": {},
   "outputs": [],
   "source": [
    "c = a.copy()"
   ]
  },
  {
   "cell_type": "code",
   "execution_count": 26,
   "id": "10e231e4",
   "metadata": {},
   "outputs": [],
   "source": [
    "c[2:]=34"
   ]
  },
  {
   "cell_type": "code",
   "execution_count": 27,
   "id": "520f3e25",
   "metadata": {},
   "outputs": [
    {
     "data": {
      "text/plain": [
       "array([ 1,  2, 34, 34, 34, 34])"
      ]
     },
     "execution_count": 27,
     "metadata": {},
     "output_type": "execute_result"
    }
   ],
   "source": [
    "c"
   ]
  },
  {
   "cell_type": "code",
   "execution_count": 28,
   "id": "63ac730d",
   "metadata": {},
   "outputs": [
    {
     "data": {
      "text/plain": [
       "array([ 1,  2, 23, 23,  5,  6])"
      ]
     },
     "execution_count": 28,
     "metadata": {},
     "output_type": "execute_result"
    }
   ],
   "source": [
    "a"
   ]
  },
  {
   "cell_type": "code",
   "execution_count": null,
   "id": "02ee9dc4",
   "metadata": {},
   "outputs": [],
   "source": [
    "#notice no changes in a "
   ]
  }
 ],
 "metadata": {
  "kernelspec": {
   "display_name": "Python 3 (ipykernel)",
   "language": "python",
   "name": "python3"
  },
  "language_info": {
   "codemirror_mode": {
    "name": "ipython",
    "version": 3
   },
   "file_extension": ".py",
   "mimetype": "text/x-python",
   "name": "python",
   "nbconvert_exporter": "python",
   "pygments_lexer": "ipython3",
   "version": "3.10.9"
  }
 },
 "nbformat": 4,
 "nbformat_minor": 5
}
