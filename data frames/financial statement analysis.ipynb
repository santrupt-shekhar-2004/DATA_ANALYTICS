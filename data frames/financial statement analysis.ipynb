{
 "cells": [
  {
   "cell_type": "code",
   "execution_count": 1,
   "id": "49fddd1b",
   "metadata": {},
   "outputs": [],
   "source": [
    "#Data \n",
    "revenue = [14574.49, 7606.46, 8611.41, 9175.41, 8058.65, 8105.44, 11496.28, 9766.09, 10305.32, 14379.96, 10713.97, 15433.50]\n",
    "expenses = [12051.82, 5695.07, 12319.20, 12089.72, 8658.57, 840.20, 3285.73, 5821.12, 6976.93, 16618.61, 10054.37, 3803.96]"
   ]
  },
  {
   "cell_type": "code",
   "execution_count": 2,
   "id": "306edc18",
   "metadata": {},
   "outputs": [],
   "source": [
    "import numpy as np"
   ]
  },
  {
   "cell_type": "code",
   "execution_count": 3,
   "id": "a5227545",
   "metadata": {},
   "outputs": [],
   "source": [
    "a=np.array(revenue)"
   ]
  },
  {
   "cell_type": "code",
   "execution_count": 4,
   "id": "5725ffc5",
   "metadata": {},
   "outputs": [],
   "source": [
    "b=np.array(expenses)"
   ]
  },
  {
   "cell_type": "code",
   "execution_count": 6,
   "id": "f721615e",
   "metadata": {},
   "outputs": [],
   "source": [
    "profit = a-b"
   ]
  },
  {
   "cell_type": "code",
   "execution_count": 7,
   "id": "8ea8a2e4",
   "metadata": {},
   "outputs": [
    {
     "name": "stdout",
     "output_type": "stream",
     "text": [
      "[ 2522.67  1911.39 -3707.79 -2914.31  -599.92  7265.24  8210.55  3944.97\n",
      "  3328.39 -2238.65   659.6  11629.54]\n"
     ]
    }
   ],
   "source": [
    "print(profit)"
   ]
  },
  {
   "cell_type": "code",
   "execution_count": 33,
   "id": "977471ab",
   "metadata": {},
   "outputs": [],
   "source": [
    "tax=profit*0.3"
   ]
  },
  {
   "cell_type": "code",
   "execution_count": 69,
   "id": "6784092d",
   "metadata": {},
   "outputs": [],
   "source": [
    "profit_aftertax= profit - tax"
   ]
  },
  {
   "cell_type": "code",
   "execution_count": 70,
   "id": "7fc3ccf4",
   "metadata": {},
   "outputs": [
    {
     "name": "stdout",
     "output_type": "stream",
     "text": [
      "[ 1765.869  1337.973 -2595.453 -2040.017  -419.944  5085.668  5747.385\n",
      "  2761.479  2329.873 -1567.055   461.72   8140.678]\n"
     ]
    }
   ],
   "source": [
    "print(profit_aftertax)"
   ]
  },
  {
   "cell_type": "code",
   "execution_count": 71,
   "id": "73157e2a",
   "metadata": {},
   "outputs": [],
   "source": [
    "profit_margin = profit_aftertax / a"
   ]
  },
  {
   "cell_type": "code",
   "execution_count": 72,
   "id": "a13f28fd",
   "metadata": {},
   "outputs": [
    {
     "name": "stdout",
     "output_type": "stream",
     "text": [
      "[ 0.12116163  0.17589956 -0.30139698 -0.22233524 -0.05211096  0.62743886\n",
      "  0.49993433  0.28276199  0.22608449 -0.10897492  0.04309514  0.52746804]\n"
     ]
    }
   ],
   "source": [
    "print(profit_margin)"
   ]
  },
  {
   "cell_type": "code",
   "execution_count": 73,
   "id": "665ec238",
   "metadata": {},
   "outputs": [],
   "source": [
    "mean_profit = profit.mean()"
   ]
  },
  {
   "cell_type": "code",
   "execution_count": 74,
   "id": "5e6ef533",
   "metadata": {},
   "outputs": [
    {
     "name": "stdout",
     "output_type": "stream",
     "text": [
      "2500.973333333333\n"
     ]
    }
   ],
   "source": [
    "print(mean_profit)"
   ]
  },
  {
   "cell_type": "code",
   "execution_count": 75,
   "id": "ab2bf788",
   "metadata": {},
   "outputs": [],
   "source": [
    "c=profit_aftertax>mean_profit"
   ]
  },
  {
   "cell_type": "code",
   "execution_count": 76,
   "id": "1d44f73f",
   "metadata": {},
   "outputs": [
    {
     "name": "stdout",
     "output_type": "stream",
     "text": [
      "[False False False False False  True  True  True False False False  True]\n"
     ]
    }
   ],
   "source": [
    "print(c)"
   ]
  },
  {
   "cell_type": "code",
   "execution_count": 77,
   "id": "c54cb39c",
   "metadata": {},
   "outputs": [],
   "source": [
    "good_month=('June','July','August','December')"
   ]
  },
  {
   "cell_type": "code",
   "execution_count": 78,
   "id": "b67f3cea",
   "metadata": {},
   "outputs": [
    {
     "name": "stdout",
     "output_type": "stream",
     "text": [
      "('June', 'July', 'August', 'December')\n"
     ]
    }
   ],
   "source": [
    "print(good_month)"
   ]
  },
  {
   "cell_type": "code",
   "execution_count": 79,
   "id": "65b55599",
   "metadata": {},
   "outputs": [],
   "source": [
    "bad_month=('Jannuary','Feburary','March','April','May','September','October','Novemeber')"
   ]
  },
  {
   "cell_type": "code",
   "execution_count": 80,
   "id": "f6e4a405",
   "metadata": {},
   "outputs": [
    {
     "name": "stdout",
     "output_type": "stream",
     "text": [
      "('Jannuary', 'Feburary', 'March', 'April', 'May', 'September', 'October', 'Novemeber')\n"
     ]
    }
   ],
   "source": [
    "print(bad_month)"
   ]
  },
  {
   "cell_type": "code",
   "execution_count": 81,
   "id": "6218f7fa",
   "metadata": {},
   "outputs": [],
   "source": [
    "d=profit_aftertax.max()"
   ]
  },
  {
   "cell_type": "code",
   "execution_count": 82,
   "id": "ccf9aab4",
   "metadata": {},
   "outputs": [
    {
     "name": "stdout",
     "output_type": "stream",
     "text": [
      "8140.678000000001\n"
     ]
    }
   ],
   "source": [
    "print(d)"
   ]
  },
  {
   "cell_type": "code",
   "execution_count": 83,
   "id": "1a6b2643",
   "metadata": {},
   "outputs": [],
   "source": [
    "Best_month = 'December'"
   ]
  },
  {
   "cell_type": "code",
   "execution_count": 84,
   "id": "400ed1eb",
   "metadata": {},
   "outputs": [],
   "source": [
    "e=profit_aftertax.min()"
   ]
  },
  {
   "cell_type": "code",
   "execution_count": 85,
   "id": "23f4758f",
   "metadata": {},
   "outputs": [
    {
     "name": "stdout",
     "output_type": "stream",
     "text": [
      "-2595.4530000000004\n"
     ]
    }
   ],
   "source": [
    "print(e)"
   ]
  },
  {
   "cell_type": "code",
   "execution_count": 86,
   "id": "a46056a5",
   "metadata": {},
   "outputs": [],
   "source": [
    "worst_month='March'"
   ]
  }
 ],
 "metadata": {
  "kernelspec": {
   "display_name": "Python 3 (ipykernel)",
   "language": "python",
   "name": "python3"
  },
  "language_info": {
   "codemirror_mode": {
    "name": "ipython",
    "version": 3
   },
   "file_extension": ".py",
   "mimetype": "text/x-python",
   "name": "python",
   "nbconvert_exporter": "python",
   "pygments_lexer": "ipython3",
   "version": "3.10.9"
  }
 },
 "nbformat": 4,
 "nbformat_minor": 5
}
