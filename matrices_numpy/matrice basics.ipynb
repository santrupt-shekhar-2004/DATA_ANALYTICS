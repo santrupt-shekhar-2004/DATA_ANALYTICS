{
 "cells": [
  {
   "cell_type": "code",
   "execution_count": 1,
   "id": "a36a33af",
   "metadata": {},
   "outputs": [],
   "source": [
    "#matrices are 2 dimensional arrays\n",
    "#first we come row(horizontal),then column(vertical)\n",
    "#while specifiying a matrix we give 3 parameters\n",
    "#first parameter is the data set\n",
    "#second parameter is the oreder of matrix\n",
    "#is order by which the data has to be filled\n",
    "# we have c or f for that\n",
    "#c is data is filled row wise \n",
    "#f is data is filled column wise"
   ]
  },
  {
   "cell_type": "code",
   "execution_count": 3,
   "id": "8be47fa7",
   "metadata": {},
   "outputs": [],
   "source": [
    "import numpy as np"
   ]
  },
  {
   "cell_type": "code",
   "execution_count": 8,
   "id": "41761e84",
   "metadata": {},
   "outputs": [],
   "source": [
    "mydata=np.arange(0,20) #to get some data in the form of array"
   ]
  },
  {
   "cell_type": "code",
   "execution_count": 9,
   "id": "19d0776f",
   "metadata": {},
   "outputs": [
    {
     "data": {
      "text/plain": [
       "array([ 0,  1,  2,  3,  4,  5,  6,  7,  8,  9, 10, 11, 12, 13, 14, 15, 16,\n",
       "       17, 18, 19])"
      ]
     },
     "execution_count": 9,
     "metadata": {},
     "output_type": "execute_result"
    }
   ],
   "source": [
    "mydata"
   ]
  },
  {
   "cell_type": "code",
   "execution_count": 30,
   "id": "06c483eb",
   "metadata": {},
   "outputs": [],
   "source": [
    "#now we arrange it into matrix\n",
    "matrix1=np.reshape(mydata,(4,5),order='C')"
   ]
  },
  {
   "cell_type": "code",
   "execution_count": 31,
   "id": "181355ed",
   "metadata": {},
   "outputs": [
    {
     "data": {
      "text/plain": [
       "array([[ 0,  1,  2,  3,  4],\n",
       "       [ 5,  6,  7,  8,  9],\n",
       "       [10, 11, 12, 13, 14],\n",
       "       [15, 16, 17, 18, 19]])"
      ]
     },
     "execution_count": 31,
     "metadata": {},
     "output_type": "execute_result"
    }
   ],
   "source": [
    "matrix1"
   ]
  },
  {
   "cell_type": "code",
   "execution_count": 32,
   "id": "199d3dfb",
   "metadata": {},
   "outputs": [],
   "source": [
    "#now lets access 10"
   ]
  },
  {
   "cell_type": "code",
   "execution_count": 33,
   "id": "7fb60794",
   "metadata": {},
   "outputs": [
    {
     "data": {
      "text/plain": [
       "10"
      ]
     },
     "execution_count": 33,
     "metadata": {},
     "output_type": "execute_result"
    }
   ],
   "source": [
    "matrix1[2,0] #first we metion rwo then column #remember indexing starts from 0"
   ]
  },
  {
   "cell_type": "code",
   "execution_count": 34,
   "id": "1643ace2",
   "metadata": {},
   "outputs": [],
   "source": [
    "#now lets do it woth order F"
   ]
  },
  {
   "cell_type": "code",
   "execution_count": 35,
   "id": "84c256b3",
   "metadata": {},
   "outputs": [],
   "source": [
    "matrix2=np.reshape(mydata, (4,5), order='F')"
   ]
  },
  {
   "cell_type": "code",
   "execution_count": 36,
   "id": "56ddd0dc",
   "metadata": {},
   "outputs": [
    {
     "data": {
      "text/plain": [
       "array([[ 0,  1,  2,  3,  4],\n",
       "       [ 5,  6,  7,  8,  9],\n",
       "       [10, 11, 12, 13, 14],\n",
       "       [15, 16, 17, 18, 19]])"
      ]
     },
     "execution_count": 36,
     "metadata": {},
     "output_type": "execute_result"
    }
   ],
   "source": [
    "matrix2"
   ]
  },
  {
   "cell_type": "code",
   "execution_count": 38,
   "id": "9b26159d",
   "metadata": {},
   "outputs": [
    {
     "data": {
      "text/plain": [
       "array([[ 0,  1,  2,  3,  4],\n",
       "       [ 5,  6,  7,  8,  9],\n",
       "       [10, 11, 12, 13, 14],\n",
       "       [15, 16, 17, 18, 19]])"
      ]
     },
     "execution_count": 38,
     "metadata": {},
     "output_type": "execute_result"
    }
   ],
   "source": [
    "#mydata is an array\n",
    "#thus we can write like this directly\n",
    "mydata.reshape((4,5),order='F')"
   ]
  },
  {
   "cell_type": "code",
   "execution_count": null,
   "id": "7dbdcb18",
   "metadata": {},
   "outputs": [],
   "source": []
  }
 ],
 "metadata": {
  "kernelspec": {
   "display_name": "Python 3 (ipykernel)",
   "language": "python",
   "name": "python3"
  },
  "language_info": {
   "codemirror_mode": {
    "name": "ipython",
    "version": 3
   },
   "file_extension": ".py",
   "mimetype": "text/x-python",
   "name": "python",
   "nbconvert_exporter": "python",
   "pygments_lexer": "ipython3",
   "version": "3.10.9"
  }
 },
 "nbformat": 4,
 "nbformat_minor": 5
}
