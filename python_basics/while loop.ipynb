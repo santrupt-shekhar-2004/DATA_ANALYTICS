{
 "cells": [
  {
   "cell_type": "code",
   "execution_count": 1,
   "id": "a2145101",
   "metadata": {},
   "outputs": [],
   "source": [
    "#while loop in python has different format\n",
    "#no braces or brackets \n",
    "#he while loop starting and ends depends on the intendation\n"
   ]
  },
  {
   "cell_type": "code",
   "execution_count": 2,
   "id": "9d281225",
   "metadata": {},
   "outputs": [
    {
     "name": "stdout",
     "output_type": "stream",
     "text": [
      "1\n",
      "2\n",
      "3\n",
      "4\n",
      "5\n",
      "6\n",
      "7\n",
      "8\n",
      "9\n",
      "10\n",
      "11\n",
      "12\n",
      "12\n"
     ]
    }
   ],
   "source": [
    "num = 0\n",
    "while num<12:\n",
    "    num=num+1\n",
    "    print(num)\n",
    "print(num)#loop ends here because we came out of the indentation"
   ]
  },
  {
   "cell_type": "code",
   "execution_count": 3,
   "id": "3d20b00d",
   "metadata": {},
   "outputs": [
    {
     "name": "stdout",
     "output_type": "stream",
     "text": [
      "10\n",
      "9\n",
      "8\n",
      "7\n",
      "6\n",
      "5\n",
      "4\n",
      "3\n",
      "2\n",
      "1\n"
     ]
    }
   ],
   "source": [
    "num=10\n",
    "while num>0:\n",
    "    print(num)\n",
    "    num=num-1\n"
   ]
  },
  {
   "cell_type": "code",
   "execution_count": null,
   "id": "85bd440a",
   "metadata": {},
   "outputs": [],
   "source": []
  }
 ],
 "metadata": {
  "kernelspec": {
   "display_name": "Python 3 (ipykernel)",
   "language": "python",
   "name": "python3"
  },
  "language_info": {
   "codemirror_mode": {
    "name": "ipython",
    "version": 3
   },
   "file_extension": ".py",
   "mimetype": "text/x-python",
   "name": "python",
   "nbconvert_exporter": "python",
   "pygments_lexer": "ipython3",
   "version": "3.10.9"
  }
 },
 "nbformat": 4,
 "nbformat_minor": 5
}
