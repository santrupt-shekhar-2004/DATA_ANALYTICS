{
 "cells": [
  {
   "cell_type": "code",
   "execution_count": 1,
   "id": "9700d1b3",
   "metadata": {},
   "outputs": [],
   "source": [
    "#boolean operators\n",
    "#and\n",
    "#not\n",
    "#or\n",
    "#= , !=, >,<,>=,<= ,=="
   ]
  },
  {
   "cell_type": "code",
   "execution_count": 2,
   "id": "c77ec472",
   "metadata": {},
   "outputs": [],
   "source": [
    "y = 3>4"
   ]
  },
  {
   "cell_type": "code",
   "execution_count": 3,
   "id": "45002f41",
   "metadata": {},
   "outputs": [
    {
     "data": {
      "text/plain": [
       "False"
      ]
     },
     "execution_count": 3,
     "metadata": {},
     "output_type": "execute_result"
    }
   ],
   "source": [
    "y"
   ]
  },
  {
   "cell_type": "code",
   "execution_count": 4,
   "id": "fef7a234",
   "metadata": {},
   "outputs": [],
   "source": [
    "x = 4>3"
   ]
  },
  {
   "cell_type": "code",
   "execution_count": 5,
   "id": "421172f9",
   "metadata": {},
   "outputs": [
    {
     "data": {
      "text/plain": [
       "False"
      ]
     },
     "execution_count": 5,
     "metadata": {},
     "output_type": "execute_result"
    }
   ],
   "source": [
    "y and x"
   ]
  },
  {
   "cell_type": "code",
   "execution_count": 6,
   "id": "640016d8",
   "metadata": {},
   "outputs": [
    {
     "data": {
      "text/plain": [
       "True"
      ]
     },
     "execution_count": 6,
     "metadata": {},
     "output_type": "execute_result"
    }
   ],
   "source": [
    "y or x"
   ]
  },
  {
   "cell_type": "code",
   "execution_count": 7,
   "id": "df958464",
   "metadata": {},
   "outputs": [],
   "source": [
    "y = not(3>4)"
   ]
  },
  {
   "cell_type": "code",
   "execution_count": 8,
   "id": "765ad087",
   "metadata": {},
   "outputs": [
    {
     "data": {
      "text/plain": [
       "True"
      ]
     },
     "execution_count": 8,
     "metadata": {},
     "output_type": "execute_result"
    }
   ],
   "source": [
    "y and x"
   ]
  },
  {
   "cell_type": "code",
   "execution_count": 9,
   "id": "f065fd4a",
   "metadata": {},
   "outputs": [
    {
     "data": {
      "text/plain": [
       "True"
      ]
     },
     "execution_count": 9,
     "metadata": {},
     "output_type": "execute_result"
    }
   ],
   "source": [
    "y==x\n"
   ]
  },
  {
   "cell_type": "code",
   "execution_count": null,
   "id": "3462b06d",
   "metadata": {},
   "outputs": [],
   "source": []
  }
 ],
 "metadata": {
  "kernelspec": {
   "display_name": "Python 3 (ipykernel)",
   "language": "python",
   "name": "python3"
  },
  "language_info": {
   "codemirror_mode": {
    "name": "ipython",
    "version": 3
   },
   "file_extension": ".py",
   "mimetype": "text/x-python",
   "name": "python",
   "nbconvert_exporter": "python",
   "pygments_lexer": "ipython3",
   "version": "3.10.9"
  }
 },
 "nbformat": 4,
 "nbformat_minor": 5
}
