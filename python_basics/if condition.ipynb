{
 "cells": [
  {
   "cell_type": "code",
   "execution_count": 5,
   "id": "fb6e67d1",
   "metadata": {},
   "outputs": [],
   "source": [
    "import numpy as np"
   ]
  },
  {
   "cell_type": "code",
   "execution_count": 7,
   "id": "8f101faa",
   "metadata": {},
   "outputs": [],
   "source": [
    "from numpy.random import randn"
   ]
  },
  {
   "cell_type": "code",
   "execution_count": 8,
   "id": "ac95f581",
   "metadata": {},
   "outputs": [
    {
     "data": {
      "text/plain": [
       "0.3183257713297046"
      ]
     },
     "execution_count": 8,
     "metadata": {},
     "output_type": "execute_result"
    }
   ],
   "source": [
    "randn()"
   ]
  },
  {
   "cell_type": "code",
   "execution_count": 9,
   "id": "19f372c4",
   "metadata": {},
   "outputs": [],
   "source": [
    "x=randn()"
   ]
  },
  {
   "cell_type": "code",
   "execution_count": 10,
   "id": "7c00f4fe",
   "metadata": {},
   "outputs": [
    {
     "name": "stdout",
     "output_type": "stream",
     "text": [
      "Lies between -1 and 1\n",
      "0.5371372917293631\n"
     ]
    }
   ],
   "source": [
    "if x>=1:\n",
    "    print(\"Greater than 1\")\n",
    "elif x>=-1:\n",
    "    print(\"Lies between -1 and 1\")\n",
    "else:\n",
    "    print(\"Less than -1\")\n",
    "print(x)"
   ]
  },
  {
   "cell_type": "code",
   "execution_count": null,
   "id": "58a4498f",
   "metadata": {},
   "outputs": [],
   "source": []
  }
 ],
 "metadata": {
  "kernelspec": {
   "display_name": "Python 3 (ipykernel)",
   "language": "python",
   "name": "python3"
  },
  "language_info": {
   "codemirror_mode": {
    "name": "ipython",
    "version": 3
   },
   "file_extension": ".py",
   "mimetype": "text/x-python",
   "name": "python",
   "nbconvert_exporter": "python",
   "pygments_lexer": "ipython3",
   "version": "3.10.9"
  }
 },
 "nbformat": 4,
 "nbformat_minor": 5
}
