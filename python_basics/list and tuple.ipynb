{
 "cells": [
  {
   "cell_type": "code",
   "execution_count": 1,
   "id": "9c6709f9",
   "metadata": {},
   "outputs": [],
   "source": [
    "#list are like vectors but can store multiple data type elements in one list\n",
    "#list can also store a list in it "
   ]
  },
  {
   "cell_type": "code",
   "execution_count": 2,
   "id": "34c6e42a",
   "metadata": {},
   "outputs": [
    {
     "data": {
      "text/plain": [
       "[1, 2, 3, 4, 5, 6, 7, 8, 9, 10, 11, 12, 13, 14]"
      ]
     },
     "execution_count": 2,
     "metadata": {},
     "output_type": "execute_result"
    }
   ],
   "source": [
    "list(range(1,15))\n"
   ]
  },
  {
   "cell_type": "code",
   "execution_count": 6,
   "id": "94eb4f2d",
   "metadata": {},
   "outputs": [
    {
     "data": {
      "text/plain": [
       "[0, 10, 20, 30, 40, 50, 60, 70, 80, 90, 100]"
      ]
     },
     "execution_count": 6,
     "metadata": {},
     "output_type": "execute_result"
    }
   ],
   "source": [
    "list(range(0,101,10))"
   ]
  },
  {
   "cell_type": "code",
   "execution_count": 9,
   "id": "ee0af0fc",
   "metadata": {},
   "outputs": [],
   "source": [
    "list=[1,\"hello\",range(100,201,5)]"
   ]
  },
  {
   "cell_type": "code",
   "execution_count": 10,
   "id": "7c10d2d0",
   "metadata": {},
   "outputs": [
    {
     "name": "stdout",
     "output_type": "stream",
     "text": [
      "[1, 'hello', range(100, 201, 5)]\n"
     ]
    }
   ],
   "source": [
    "print(list)"
   ]
  },
  {
   "cell_type": "code",
   "execution_count": 27,
   "id": "d9b3e313",
   "metadata": {},
   "outputs": [
    {
     "name": "stdout",
     "output_type": "stream",
     "text": [
      "range(100, 201, 5)\n"
     ]
    }
   ],
   "source": [
    "print(list[2])"
   ]
  },
  {
   "cell_type": "code",
   "execution_count": 28,
   "id": "ff264315",
   "metadata": {},
   "outputs": [
    {
     "data": {
      "text/plain": [
       "range(0, 19)"
      ]
     },
     "execution_count": 28,
     "metadata": {},
     "output_type": "execute_result"
    }
   ],
   "source": [
    "x=range(19)"
   ]
  },
  {
   "cell_type": "code",
   "execution_count": 35,
   "id": "092c754c",
   "metadata": {},
   "outputs": [],
   "source": [
    "#range as discussed in for loop is a function that creates a list\n"
   ]
  },
  {
   "cell_type": "code",
   "execution_count": 36,
   "id": "fb385191",
   "metadata": {},
   "outputs": [],
   "source": [
    "prac=[\"a\",\"b\",\"c\",\"d\",\"e\",\"f\",\"g\"]"
   ]
  },
  {
   "cell_type": "code",
   "execution_count": 42,
   "id": "c3f545e0",
   "metadata": {},
   "outputs": [
    {
     "data": {
      "text/plain": [
       "['f', 'd', 'b']"
      ]
     },
     "execution_count": 42,
     "metadata": {},
     "output_type": "execute_result"
    }
   ],
   "source": [
    "prac[-2::-2]#slicing"
   ]
  },
  {
   "cell_type": "code",
   "execution_count": 43,
   "id": "872d7954",
   "metadata": {},
   "outputs": [
    {
     "data": {
      "text/plain": [
       "['g', 'f', 'e', 'd']"
      ]
     },
     "execution_count": 43,
     "metadata": {},
     "output_type": "execute_result"
    }
   ],
   "source": [
    "prac[6:2:-1]"
   ]
  },
  {
   "cell_type": "code",
   "execution_count": 44,
   "id": "b463ec37",
   "metadata": {},
   "outputs": [],
   "source": [
    "#tuple are immutable list,i.e,can do insertion or deletion of elements"
   ]
  },
  {
   "cell_type": "code",
   "execution_count": 45,
   "id": "554ca427",
   "metadata": {},
   "outputs": [],
   "source": [
    "tuple1=(1,2,3,4)"
   ]
  },
  {
   "cell_type": "code",
   "execution_count": 46,
   "id": "88d6cc66",
   "metadata": {},
   "outputs": [
    {
     "ename": "TypeError",
     "evalue": "'tuple' object does not support item assignment",
     "output_type": "error",
     "traceback": [
      "\u001b[0;31m---------------------------------------------------------------------------\u001b[0m",
      "\u001b[0;31mTypeError\u001b[0m                                 Traceback (most recent call last)",
      "Cell \u001b[0;32mIn[46], line 1\u001b[0m\n\u001b[0;32m----> 1\u001b[0m tuple1[\u001b[38;5;241m1\u001b[39m]\u001b[38;5;241m=\u001b[39m\u001b[38;5;241m13\u001b[39m\n",
      "\u001b[0;31mTypeError\u001b[0m: 'tuple' object does not support item assignment"
     ]
    }
   ],
   "source": [
    "tuple1[1]=13 #immutable"
   ]
  },
  {
   "cell_type": "code",
   "execution_count": null,
   "id": "c898a2b8",
   "metadata": {},
   "outputs": [],
   "source": []
  }
 ],
 "metadata": {
  "kernelspec": {
   "display_name": "Python 3 (ipykernel)",
   "language": "python",
   "name": "python3"
  },
  "language_info": {
   "codemirror_mode": {
    "name": "ipython",
    "version": 3
   },
   "file_extension": ".py",
   "mimetype": "text/x-python",
   "name": "python",
   "nbconvert_exporter": "python",
   "pygments_lexer": "ipython3",
   "version": "3.10.9"
  }
 },
 "nbformat": 4,
 "nbformat_minor": 5
}
